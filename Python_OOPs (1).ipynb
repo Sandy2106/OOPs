{
  "nbformat": 4,
  "nbformat_minor": 0,
  "metadata": {
    "colab": {
      "provenance": []
    },
    "kernelspec": {
      "name": "python3",
      "display_name": "Python 3"
    },
    "language_info": {
      "name": "python"
    }
  },
  "cells": [
    {
      "cell_type": "markdown",
      "source": [
        "# Python OOPs Questions"
      ],
      "metadata": {
        "id": "0E71nhhu1R9a"
      }
    },
    {
      "cell_type": "markdown",
      "source": [
        "1. What is Object-Oriented Programming (OOP)?\n",
        "- Object-Oriented Programming (OOP) is a programming paradigm based on the concept of objects, which can contain data (in the form of fields, often called attributes or properties) and methods (functions associated with the object). OOP is designed to make code more modular, reusable, and easier to maintain.\n",
        "\n",
        "2. What is a class in OOP?\n",
        "- A class in Object-Oriented Programming (OOP) is a blueprint or template for creating objects. It defines the attributes (data) and methods (functions) that the objects created from the class will have.\n",
        "\n",
        "3. What is an object in OOP?\n",
        "- An object is an instance of a class in Object-Oriented Programming (OOP). It represents a real-world entity with attributes (data) and methods (behavior) defined by its class.\n",
        "\n",
        "4. What is the difference between abstraction and encapsulation?\n",
        "- Abstraction:\n",
        "1.\tHiding unnecessary details and exposing only the essential features.\n",
        "2. Focuses on what an object does rather than how it does it.\n",
        "3. Example in Real Life:-\tA car dashboard: You use the steering wheel and pedals without knowing the engine's internal mechanics.\n",
        "- Encapsulation\n",
        "1. Bundling data and methods together while restricting direct access to some details.\n",
        "2. Focuses on hiding the internal details and ensuring controlled access to data.\n",
        "3. Example in Real Life:- A capsule pill: It hides the inner ingredients and only allows controlled consumption.\n",
        "\n",
        "5. What are dunder methods in Python?\n",
        "- Dunder methods, short for \"double underscore\" methods, are special methods in Python that start and end with double underscores (e.g., __init__, __str__). These methods allow custom behavior for built-in operations like object creation, string representation, addition, and more\n",
        "\n",
        "6.Explain the concept of inheritance in OOP.\n",
        "- Inheritance is an Object-Oriented Programming (OOP) concept where a class (child or subclass) inherits attributes and methods from another class (parent or superclass). It promotes code reusability, hierarchical classification, and scalability.\n",
        "\n",
        "7. What is polymorphism in OOP?\n",
        "- Polymorphism is an Object-Oriented Programming (OOP) concept that allows objects of different classes to be treated as if they belong to the same superclass. It enables one interface, multiple implementations, meaning the same function or method can behave differently based on the object that calls it.\n",
        "\n",
        "8. How is encapsulation achieved in Python?\n",
        "- Encapsulation in Python is achieved by restricting access to certain data and methods within a class. This ensures that sensitive data is not accessed or modified directly and instead is controlled through getter and setter methods.\n",
        "\n",
        "9. What is a constructor in Python?\n",
        "- A constructor is a special method in Python that is automatically called when an object of a class is created. It is typically used to initialize attributes of an object.\n",
        "\n",
        "10. What are class and static methods in Python?\n",
        "- In Python, class methods and static methods are used to define behavior at the class level rather than at the instance level. These methods are declared using the @classmethod and @staticmethod decorators.\n",
        "- Class Methods (@classmethod):-\n",
        "A class method is bound to the class rather than an instance. It can modify class variables and is commonly used for factory methods.\n",
        "\n",
        "-  Static Methods (@staticmethod):-\n",
        "A static method is a method that does not modify class or instance attributes. It behaves like a regular function inside a class but is logically grouped with the class\n",
        "\n",
        "11. What is method overloading in Python?\n",
        "- Method overloading means defining multiple methods with the same name but different parameters. Python does not support method overloading natively, but it can be simulated using default arguments or *args.\n",
        "\n",
        "12. What is method overriding in OOP?\n",
        "- Method overriding occurs when a child class provides a specific implementation of a method already defined in its parent class.\n",
        "\n",
        "13. What is a property decorator in Python?\n",
        "- The @property decorator converts a method into a getter for an attribute. It allows accessing a method like an attribute.\n",
        "\n",
        "14. Why is polymorphism important in OOP?\n",
        "- Polymorphism allows one interface to have multiple implementations, making code more flexible and reusable.\n",
        "\n",
        "15. What is an abstract class in Python?\n",
        "- An abstract class is a class that cannot be instantiated and contains at least one abstract method (a method that must be implemented by subclasses).\n",
        "\n",
        "16. What are the advantages of OOP?\n",
        "-\n",
        " 1. Encapsulation – Protects data.\n",
        " 2. Abstraction – Hides complexity.\n",
        " 3. Inheritance – Reuses code.\n",
        " 4. Polymorphism – Enhances flexibility.\n",
        " 5. Modularity – Easier debugging and maintenance.\n",
        "\n",
        "17. What is the difference between a class variable and an instance variable?\n",
        "- \tClass Variable\n",
        "1.Shared by all instances\n",
        "2.ClassName.variable\n",
        "- Instance Variable\n",
        "1.Unique to each instance\n",
        "2.self.variable\n",
        "\n",
        "18. What is multiple inheritance in Python?\n",
        "- When a class inherits from multiple parent classes.\n",
        "ex:- class A:\n",
        "    def method_A(self):\n",
        "        return \"A\"\n",
        "\n",
        "class B:\n",
        "    def method_B(self):\n",
        "        return \"B\"\n",
        "\n",
        "class C(A, B):  # Multiple inheritance\n",
        "    pass\n",
        "\n",
        "obj = C()\n",
        "print(obj.method_A(), obj.method_B())  # Output: A B\n",
        "\n",
        "19. Explain the purpose of ‘’__str__’ and ‘__repr__’ ‘ methods in Python.\n",
        "- __str__\tReturns a human-readable string\n",
        "- __repr__\tReturns an unambiguous representation (for debugging)\n",
        "\n",
        "20. What is the significance of the ‘super()’ function in Python?\n",
        "- The super() function allows calling parent class methods inside a child class.\n",
        "ex:- class Parent:\n",
        "    def show(self):\n",
        "        return \"Parent Method\"\n",
        "\n",
        "class Child(Parent):\n",
        "    def show(self):\n",
        "        return super().show() + \" & Child Method\"\n",
        "\n",
        "c = Child()\n",
        "print(c.show())  # Output: Parent Method & Child Method\n",
        "\n",
        "21. What is the significance of the __del__ method in Python?\n",
        "- The __del__ method (destructor) is called when an object is deleted or garbage collected.\n",
        "\n",
        "22. What is the difference between @staticmethod and @classmethod in Python?\n",
        "- classmethod:-\n",
        "The @classmethod decorator is a built-in function decorator that is an expression that gets evaluated after your function is defined. The result of that evaluation shadows your function definition. A class method receives the class as an implicit first argument, just like an instance method receives the instance\n",
        "- staticmethod:-\n",
        "A static method does not receive an implicit first argument. A static method is also a method that is bound to the class and not the object of the class. This method can’t access or modify the class state. It is present in a class because it makes sense for the method to be present in class.\n",
        "\n",
        "23. How does polymorphism work in Python with inheritance?\n",
        "- In inheritance, polymorphism allows a subclass to override a method from the superclass.\n",
        "\n",
        "24. What is method chaining in Python OOP?\n",
        "- Method chaining allows calling multiple methods in a single line.\n",
        "\n",
        "25. What is the purpose of the __call__ method in Python?\n",
        "- The __call__ method makes an object callable like a function."
      ],
      "metadata": {
        "id": "v9xdfBFj1YH5"
      }
    },
    {
      "cell_type": "markdown",
      "source": [
        "# Practical Questions"
      ],
      "metadata": {
        "id": "V7vfaLvp-zp_"
      }
    },
    {
      "cell_type": "markdown",
      "source": [
        "1.  Create a parent class Animal with a method speak() that prints a generic message. Create a child class Dog that overrides the speak() method to print \"Bark!\"."
      ],
      "metadata": {
        "id": "RaV4konu-3qq"
      }
    },
    {
      "cell_type": "code",
      "source": [
        "class Animal:\n",
        "    def speak(self):\n",
        "        print(\"This animal makes a sound.\")\n",
        "\n",
        "class Dog(Animal):\n",
        "    def speak(self):\n",
        "        print(\"Bark!\")\n",
        "\n",
        "# Testing the classes\n",
        "animal = Animal()\n",
        "animal.speak()\n",
        "dog = Dog()\n",
        "dog.speak()  # Output: Bark!\n"
      ],
      "metadata": {
        "colab": {
          "base_uri": "https://localhost:8080/"
        },
        "id": "js_xu1LM_APf",
        "outputId": "2d3bc8ec-955c-494b-ae0d-e6a3ebcb5ecb"
      },
      "execution_count": 1,
      "outputs": [
        {
          "output_type": "stream",
          "name": "stdout",
          "text": [
            "This animal makes a sound.\n",
            "Bark!\n"
          ]
        }
      ]
    },
    {
      "cell_type": "markdown",
      "source": [
        "2.  Write a program to create an abstract class Shape with a method area(). Derive classes Circle and Rectangle from it and implement the area() method in both."
      ],
      "metadata": {
        "id": "3sK13KHN_PTo"
      }
    },
    {
      "cell_type": "code",
      "source": [
        "from abc import ABC, abstractmethod\n",
        "import math\n",
        "\n",
        "# Abstract class\n",
        "class Shape(ABC):\n",
        "    @abstractmethod\n",
        "    def area(self):\n",
        "        pass  # Abstract method\n",
        "\n",
        "# Circle class\n",
        "class Circle(Shape):\n",
        "    def __init__(self, radius):\n",
        "        self.radius = radius\n",
        "\n",
        "    def area(self):\n",
        "        return math.pi * self.radius ** 2\n",
        "\n",
        "# Rectangle class\n",
        "class Rectangle(Shape):\n",
        "    def __init__(self, width, height):\n",
        "        self.width = width\n",
        "        self.height = height\n",
        "\n",
        "    def area(self):\n",
        "        return self.width * self.height\n",
        "\n",
        "# Testing the classes\n",
        "circle = Circle(5)\n",
        "rectangle = Rectangle(4, 6)\n",
        "\n",
        "print(\"Circle Area:\", circle.area())\n",
        "print(\"Rectangle Area:\", rectangle.area())\n"
      ],
      "metadata": {
        "colab": {
          "base_uri": "https://localhost:8080/"
        },
        "id": "vGCsc28h_a-e",
        "outputId": "0274a047-b56a-4ed7-eae7-0fe6e4a1a4bf"
      },
      "execution_count": 2,
      "outputs": [
        {
          "output_type": "stream",
          "name": "stdout",
          "text": [
            "Circle Area: 78.53981633974483\n",
            "Rectangle Area: 24\n"
          ]
        }
      ]
    },
    {
      "cell_type": "markdown",
      "source": [
        "3. Implement a multi-level inheritance scenario where a class Vehicle has an attribute type. Derive a class Car and further derive a class ElectricCar that adds a battery attribute."
      ],
      "metadata": {
        "id": "2mD7GLbm_gry"
      }
    },
    {
      "cell_type": "code",
      "source": [
        "# Parent class\n",
        "class Vehicle:\n",
        "    def __init__(self, vehicle_type):\n",
        "        self.vehicle_type = vehicle_type\n",
        "\n",
        "    def show_type(self):\n",
        "        print(f\"Vehicle Type: {self.vehicle_type}\")\n",
        "\n",
        "# Child class derived from Vehicle\n",
        "class Car(Vehicle):\n",
        "    def __init__(self, brand, model, vehicle_type=\"Car\"):\n",
        "        super().__init__(vehicle_type)\n",
        "        self.brand = brand\n",
        "        self.model = model\n",
        "\n",
        "    def show_car_details(self):\n",
        "        print(f\"Car Brand: {self.brand}, Model: {self.model}\")\n",
        "\n",
        "# Grandchild class derived from Car\n",
        "class ElectricCar(Car):\n",
        "    def __init__(self, brand, model, battery_capacity):\n",
        "        super().__init__(brand, model)\n",
        "        self.battery_capacity = battery_capacity\n",
        "\n",
        "    def show_electric_car_details(self):\n",
        "        self.show_type()  # From Vehicle class\n",
        "        self.show_car_details()  # From Car class\n",
        "        print(f\"Battery Capacity: {self.battery_capacity} kWh\")\n",
        "\n",
        "# Testing the classes\n",
        "tesla = ElectricCar(\"Tesla\", \"Model S\", 100)\n",
        "tesla.show_electric_car_details()\n",
        "\n"
      ],
      "metadata": {
        "colab": {
          "base_uri": "https://localhost:8080/"
        },
        "id": "Qidrhtk4Ab_A",
        "outputId": "85761007-4221-41cf-99fc-e5bdc01675f6"
      },
      "execution_count": 3,
      "outputs": [
        {
          "output_type": "stream",
          "name": "stdout",
          "text": [
            "Vehicle Type: Car\n",
            "Car Brand: Tesla, Model: Model S\n",
            "Battery Capacity: 100 kWh\n"
          ]
        }
      ]
    },
    {
      "cell_type": "markdown",
      "source": [
        "4.  Demonstrate polymorphism by creating a base class Bird with a method fly(). Create two derived classes Sparrow and Penguin that override the fly() method.\n"
      ],
      "metadata": {
        "id": "AaS6gkJlAgZH"
      }
    },
    {
      "cell_type": "code",
      "source": [
        "# Base class\n",
        "class Bird:\n",
        "    def fly(self):\n",
        "        print(\"This bird can fly.\")\n",
        "\n",
        "# Derived class - Sparrow (can fly)\n",
        "class Sparrow(Bird):\n",
        "    def fly(self):\n",
        "        print(\"Sparrow flies high in the sky.\")\n",
        "\n",
        "# Derived class - Penguin (cannot fly)\n",
        "class Penguin(Bird):\n",
        "    def fly(self):\n",
        "        print(\"Penguins cannot fly, they swim instead.\")\n",
        "\n",
        "# Function demonstrating polymorphism\n",
        "def bird_flight(bird):\n",
        "    bird.fly()  # Calls the appropriate fly() method\n",
        "\n",
        "# Creating objects\n",
        "sparrow = Sparrow()\n",
        "penguin = Penguin()\n",
        "\n",
        "# Testing polymorphism\n",
        "bird_flight(sparrow)\n",
        "bird_flight(penguin)"
      ],
      "metadata": {
        "colab": {
          "base_uri": "https://localhost:8080/"
        },
        "id": "2ALz9miLAhRK",
        "outputId": "1b46836c-836a-4b63-9126-fd52e0a61095"
      },
      "execution_count": 4,
      "outputs": [
        {
          "output_type": "stream",
          "name": "stdout",
          "text": [
            "Sparrow flies high in the sky.\n",
            "Penguins cannot fly, they swim instead.\n"
          ]
        }
      ]
    },
    {
      "cell_type": "markdown",
      "source": [
        "5.  Write a program to demonstrate encapsulation by creating a class BankAccount with private attributes\n",
        "balance and methods to deposit, withdraw, and check balance."
      ],
      "metadata": {
        "id": "adqnSSxMAhzQ"
      }
    },
    {
      "cell_type": "code",
      "source": [
        "class BankAccount:\n",
        "    def __init__(self, account_holder, initial_balance=0):\n",
        "        self.account_holder = account_holder\n",
        "        self.__balance = initial_balance  # Private attribute\n",
        "\n",
        "    def deposit(self, amount):\n",
        "        if amount > 0:\n",
        "            self.__balance += amount\n",
        "            print(f\"Deposited ${amount}. New balance: ${self.__balance}\")\n",
        "        else:\n",
        "            print(\"Deposit amount must be positive.\")\n",
        "\n",
        "    def withdraw(self, amount):\n",
        "        if 0 < amount <= self.__balance:\n",
        "            self.__balance -= amount\n",
        "            print(f\"Withdrew ${amount}. Remaining balance: ${self.__balance}\")\n",
        "        else:\n",
        "            print(\"Insufficient balance or invalid amount.\")\n",
        "\n",
        "    def check_balance(self):\n",
        "        print(f\"Account holder: {self.account_holder}, Balance: ${self.__balance}\")\n",
        "\n",
        "# Creating an account object\n",
        "account = BankAccount(\"Alice\", 1000)\n",
        "\n",
        "# Performing transactions\n",
        "account.deposit(500)\n",
        "account.withdraw(200)\n",
        "account.check_balance()\n",
        "\n",
        "\n",
        "print(account._BankAccount__balance)  # Output: 1300\n"
      ],
      "metadata": {
        "colab": {
          "base_uri": "https://localhost:8080/"
        },
        "id": "j0UJSv9cAiiV",
        "outputId": "80048be0-ab2d-4312-f885-4389d7777da1"
      },
      "execution_count": 5,
      "outputs": [
        {
          "output_type": "stream",
          "name": "stdout",
          "text": [
            "Deposited $500. New balance: $1500\n",
            "Withdrew $200. Remaining balance: $1300\n",
            "Account holder: Alice, Balance: $1300\n",
            "1300\n"
          ]
        }
      ]
    },
    {
      "cell_type": "markdown",
      "source": [
        "6.  Demonstrate runtime polymorphism using a method play() in a base class Instrument. Derive classes Guitar\n",
        "and Piano that implement their own version of play()."
      ],
      "metadata": {
        "id": "UspXUsODBNVb"
      }
    },
    {
      "cell_type": "code",
      "source": [
        "# Base class\n",
        "class Instrument:\n",
        "    def play(self):\n",
        "        print(\"Playing an instrument.\")\n",
        "\n",
        "# Derived class - Guitar\n",
        "class Guitar(Instrument):\n",
        "    def play(self):\n",
        "        print(\"Strumming the guitar.\")\n",
        "\n",
        "# Derived class - Piano\n",
        "class Piano(Instrument):\n",
        "    def play(self):\n",
        "        print(\"Playing the piano keys.\")\n",
        "\n",
        "# Function demonstrating polymorphism\n",
        "def play_instrument(instrument):\n",
        "    instrument.play()\n",
        "# Creating objects\n",
        "guitar = Guitar()\n",
        "piano = Piano()\n",
        "\n",
        "# Testing runtime polymorphism\n",
        "play_instrument(guitar)\n",
        "play_instrument(piano)\n"
      ],
      "metadata": {
        "colab": {
          "base_uri": "https://localhost:8080/"
        },
        "id": "nGh-lY4EBWe-",
        "outputId": "1dd44e57-ad31-4223-8896-e12b1a345078"
      },
      "execution_count": 6,
      "outputs": [
        {
          "output_type": "stream",
          "name": "stdout",
          "text": [
            "Strumming the guitar.\n",
            "Playing the piano keys.\n"
          ]
        }
      ]
    },
    {
      "cell_type": "markdown",
      "source": [
        "7.  Create a class MathOperations with a class method add_numbers() to add two numbers and a static\n",
        "method subtract_numbers() to subtract two numbers.\n",
        "\n",
        "\n"
      ],
      "metadata": {
        "id": "fg5X7DCMBgBN"
      }
    },
    {
      "cell_type": "code",
      "source": [
        "class MathOperations:\n",
        "    # Class method to add numbers\n",
        "    @classmethod\n",
        "    def add_numbers(cls, a, b):\n",
        "        return a + b\n",
        "\n",
        "    # Static method to subtract numbers\n",
        "    @staticmethod\n",
        "    def subtract_numbers(a, b):\n",
        "        return a - b\n",
        "\n",
        "# Testing the methods\n",
        "print(\"Sum:\", MathOperations.add_numbers(10, 5))\n",
        "print(\"Difference:\", MathOperations.subtract_numbers(10, 5))\n"
      ],
      "metadata": {
        "colab": {
          "base_uri": "https://localhost:8080/"
        },
        "id": "K2PJ9eQLBlnx",
        "outputId": "511a9fa1-8983-4d22-f040-8d423f43923f"
      },
      "execution_count": 7,
      "outputs": [
        {
          "output_type": "stream",
          "name": "stdout",
          "text": [
            "Sum: 15\n",
            "Difference: 5\n"
          ]
        }
      ]
    },
    {
      "cell_type": "markdown",
      "source": [
        "8.  Implement a class Person with a class method to count the total number of persons created."
      ],
      "metadata": {
        "id": "EXRHexJ9BvFd"
      }
    },
    {
      "cell_type": "code",
      "source": [
        "class Person:\n",
        "    count = 0  # Class variable to keep track of instances\n",
        "\n",
        "    def __init__(self, name):\n",
        "        self.name = name\n",
        "        Person.count += 1  # Increment count when a new instance is created\n",
        "\n",
        "    @classmethod\n",
        "    def total_persons(cls):\n",
        "        return f\"Total persons created: {cls.count}\"\n",
        "\n",
        "# Creating instances\n",
        "p1 = Person(\"Alice\")\n",
        "p2 = Person(\"Bob\")\n",
        "p3 = Person(\"Charlie\")\n",
        "\n",
        "# Checking the total count\n",
        "print(Person.total_persons())\n"
      ],
      "metadata": {
        "colab": {
          "base_uri": "https://localhost:8080/"
        },
        "id": "ZnHyFp-gB284",
        "outputId": "f02b11fc-5986-4117-daf4-30b1a172b746"
      },
      "execution_count": 8,
      "outputs": [
        {
          "output_type": "stream",
          "name": "stdout",
          "text": [
            "Total persons created: 3\n"
          ]
        }
      ]
    },
    {
      "cell_type": "markdown",
      "source": [
        "9. Write a class Fraction with attributes numerator and denominator. Override the str method to display the\n",
        "fraction as \"numerator/denominator\"."
      ],
      "metadata": {
        "id": "4B6u4F10B_ML"
      }
    },
    {
      "cell_type": "code",
      "source": [
        "class Fraction:\n",
        "    def __init__(self, numerator, denominator):\n",
        "        if denominator == 0:\n",
        "            raise ValueError(\"Denominator cannot be zero.\")\n",
        "        self.numerator = numerator\n",
        "        self.denominator = denominator\n",
        "\n",
        "    def __str__(self):\n",
        "        return f\"{self.numerator}/{self.denominator}\"\n",
        "\n",
        "# Creating fraction objects\n",
        "frac1 = Fraction(3, 4)\n",
        "frac2 = Fraction(5, 8)\n",
        "\n",
        "# Printing the fractions\n",
        "print(frac1)\n",
        "print(frac2)\n"
      ],
      "metadata": {
        "colab": {
          "base_uri": "https://localhost:8080/"
        },
        "id": "ocyt7qmUCF2q",
        "outputId": "9cba0e06-d2ac-4f6c-c32a-092fa61133ef"
      },
      "execution_count": 9,
      "outputs": [
        {
          "output_type": "stream",
          "name": "stdout",
          "text": [
            "3/4\n",
            "5/8\n"
          ]
        }
      ]
    },
    {
      "cell_type": "markdown",
      "source": [
        "10. Demonstrate operator overloading by creating a class Vector and overriding the add method to add two\n",
        "vectors."
      ],
      "metadata": {
        "id": "vdDSThmoCPZL"
      }
    },
    {
      "cell_type": "code",
      "source": [
        "class Vector:\n",
        "    def __init__(self, x, y):\n",
        "        self.x = x\n",
        "        self.y = y\n",
        "\n",
        "    def __add__(self, other):\n",
        "        if not isinstance(other, Vector):\n",
        "            return NotImplemented\n",
        "        return Vector(self.x + other.x, self.y + other.y)\n",
        "\n",
        "    def __str__(self):\n",
        "        return f\"({self.x}, {self.y})\"\n",
        "\n",
        "# Creating vector objects\n",
        "v1 = Vector(2, 3)\n",
        "v2 = Vector(4, 5)\n",
        "\n",
        "# Adding two vectors using overloaded '+' operator\n",
        "result = v1 + v2\n",
        "\n",
        "# Printing the result\n",
        "print(result)\n"
      ],
      "metadata": {
        "colab": {
          "base_uri": "https://localhost:8080/"
        },
        "id": "hb1YeIciCW_M",
        "outputId": "d8191b23-5812-48ce-d038-c0db2ce4839b"
      },
      "execution_count": 10,
      "outputs": [
        {
          "output_type": "stream",
          "name": "stdout",
          "text": [
            "(6, 8)\n"
          ]
        }
      ]
    },
    {
      "cell_type": "markdown",
      "source": [
        "11. Create a class Person with attributes name and age. Add a method greet() that prints \"Hello, my name is\n",
        "{name} and I am {age} years old.\""
      ],
      "metadata": {
        "id": "baRMkDZgCeKS"
      }
    },
    {
      "cell_type": "code",
      "source": [
        "class Person:\n",
        "    def __init__(self, name, age):\n",
        "        self.name = name\n",
        "        self.age = age\n",
        "\n",
        "    def greet(self):\n",
        "        print(f\"Hello, my name is {self.name} and I am {self.age} years old.\")\n",
        "\n",
        "# Creating Person objects\n",
        "person1 = Person(\"Alice\", 25)\n",
        "person2 = Person(\"Bob\", 30)\n",
        "\n",
        "# Calling the greet method\n",
        "person1.greet()\n",
        "person2.greet()\n"
      ],
      "metadata": {
        "colab": {
          "base_uri": "https://localhost:8080/"
        },
        "id": "M4XmDuzLCuMa",
        "outputId": "f980a1da-fa0f-478f-e8b6-32323568772c"
      },
      "execution_count": 11,
      "outputs": [
        {
          "output_type": "stream",
          "name": "stdout",
          "text": [
            "Hello, my name is Alice and I am 25 years old.\n",
            "Hello, my name is Bob and I am 30 years old.\n"
          ]
        }
      ]
    },
    {
      "cell_type": "markdown",
      "source": [
        "12. Implement a class Student with attributes name and grades. Create a method average_grade() to compute\n",
        "the average of the grades."
      ],
      "metadata": {
        "id": "OgsqZn0mC0RG"
      }
    },
    {
      "cell_type": "code",
      "source": [
        "class Student:\n",
        "    def __init__(self, name, grades):\n",
        "        self.name = name\n",
        "        self.grades = grades  # List of grades\n",
        "\n",
        "    def average_grade(self):\n",
        "        if not self.grades:\n",
        "            return 0  # Avoid division by zero\n",
        "        return sum(self.grades) / len(self.grades)\n",
        "\n",
        "    def __str__(self):\n",
        "        return f\"Student: {self.name}, Average Grade: {self.average_grade():.2f}\"\n",
        "\n",
        "# Creating Student objects\n",
        "student1 = Student(\"Alice\", [85, 90, 78, 92])\n",
        "student2 = Student(\"Bob\", [88, 76, 95])\n",
        "\n",
        "# Printing average grades\n",
        "print(student1)\n",
        "print(student2)\n"
      ],
      "metadata": {
        "colab": {
          "base_uri": "https://localhost:8080/"
        },
        "id": "6hXejaNoDT98",
        "outputId": "231ab0db-6afa-49ef-ed90-f2923be10f0f"
      },
      "execution_count": 12,
      "outputs": [
        {
          "output_type": "stream",
          "name": "stdout",
          "text": [
            "Student: Alice, Average Grade: 86.25\n",
            "Student: Bob, Average Grade: 86.33\n"
          ]
        }
      ]
    },
    {
      "cell_type": "markdown",
      "source": [
        "13. Create a class Rectangle with methods set_dimensions() to set the dimensions and area() to calculate the\n",
        "area."
      ],
      "metadata": {
        "id": "idMnACu-ERjm"
      }
    },
    {
      "cell_type": "code",
      "source": [
        "class Rectangle:\n",
        "    def __init__(self, length=0, width=0):\n",
        "        self.length = length\n",
        "        self.width = width\n",
        "\n",
        "    def set_dimensions(self, length, width):\n",
        "        self.length = length\n",
        "        self.width = width\n",
        "\n",
        "    def area(self):\n",
        "        return self.length * self.width\n",
        "\n",
        "    def __str__(self):\n",
        "        return f\"Rectangle: Length={self.length}, Width={self.width}, Area={self.area()}\"\n",
        "\n",
        "# Creating a Rectangle object\n",
        "rect = Rectangle()\n",
        "rect.set_dimensions(5, 10)\n",
        "\n",
        "# Printing the rectangle details\n",
        "print(rect)\n"
      ],
      "metadata": {
        "colab": {
          "base_uri": "https://localhost:8080/"
        },
        "id": "BnekYypWEXJC",
        "outputId": "98105b5f-2d91-4df0-e55e-f61995d54fab"
      },
      "execution_count": 13,
      "outputs": [
        {
          "output_type": "stream",
          "name": "stdout",
          "text": [
            "Rectangle: Length=5, Width=10, Area=50\n"
          ]
        }
      ]
    },
    {
      "cell_type": "markdown",
      "source": [
        "14. Create a class Employee with a method calculate_salary() that computes the salary based on hours worked\n",
        "and hourly rate. Create a derived class Manager that adds a bonus to the salary."
      ],
      "metadata": {
        "id": "A_keMfa8EhjM"
      }
    },
    {
      "cell_type": "code",
      "source": [
        "class Employee:\n",
        "    def __init__(self, name, hours_worked, hourly_rate):\n",
        "        self.name = name\n",
        "        self.hours_worked = hours_worked\n",
        "        self.hourly_rate = hourly_rate\n",
        "\n",
        "    def calculate_salary(self):\n",
        "        return self.hours_worked * self.hourly_rate\n",
        "\n",
        "    def __str__(self):\n",
        "        return f\"Employee: {self.name}, Salary: ${self.calculate_salary():.2f}\"\n",
        "\n",
        "# Derived class Manager\n",
        "class Manager(Employee):\n",
        "    def __init__(self, name, hours_worked, hourly_rate, bonus):\n",
        "        super().__init__(name, hours_worked, hourly_rate)\n",
        "        self.bonus = bonus\n",
        "\n",
        "    def calculate_salary(self):\n",
        "        return super().calculate_salary() + self.bonus\n",
        "\n",
        "    def __str__(self):\n",
        "        return f\"Manager: {self.name}, Salary: ${self.calculate_salary():.2f} (Includes Bonus)\"\n",
        "\n",
        "# Creating Employee and Manager objects\n",
        "emp = Employee(\"Alice\", 40, 20)\n",
        "mgr = Manager(\"Bob\", 40, 30, 500)\n",
        "\n",
        "# Printing salary details\n",
        "print(emp)\n",
        "print(mgr)\n"
      ],
      "metadata": {
        "colab": {
          "base_uri": "https://localhost:8080/"
        },
        "id": "9M_iXuCMEl03",
        "outputId": "e3c2374e-1443-4e1a-cb09-f68def7ba4fb"
      },
      "execution_count": 14,
      "outputs": [
        {
          "output_type": "stream",
          "name": "stdout",
          "text": [
            "Employee: Alice, Salary: $800.00\n",
            "Manager: Bob, Salary: $1700.00 (Includes Bonus)\n"
          ]
        }
      ]
    },
    {
      "cell_type": "markdown",
      "source": [
        "15. Create a class Product with attributes name, price, and quantity. Implement a method total_price() that\n",
        "calculates the total price of the product."
      ],
      "metadata": {
        "id": "a1BqXEF9EyIL"
      }
    },
    {
      "cell_type": "code",
      "source": [
        "class Product:\n",
        "    def __init__(self, name, price, quantity):\n",
        "        self.name = name\n",
        "        self.price = price\n",
        "        self.quantity = quantity\n",
        "\n",
        "    def total_price(self):\n",
        "        return self.price * self.quantity\n",
        "\n",
        "    def __str__(self):\n",
        "        return f\"Product: {self.name}, Price: ${self.price:.2f}, Quantity: {self.quantity}, Total Price: ${self.total_price():.2f}\"\n",
        "\n",
        "# Creating Product objects\n",
        "product1 = Product(\"Laptop\", 800, 2)\n",
        "product2 = Product(\"Headphones\", 50, 5)\n",
        "\n",
        "# Printing product details\n",
        "\n",
        "print(product1)\n",
        "print(product2)"
      ],
      "metadata": {
        "colab": {
          "base_uri": "https://localhost:8080/"
        },
        "id": "5EQYsAhHE3kq",
        "outputId": "c151b9a9-de25-4f8f-cc22-20979fb46c76"
      },
      "execution_count": 16,
      "outputs": [
        {
          "output_type": "stream",
          "name": "stdout",
          "text": [
            "Product: Laptop, Price: $800.00, Quantity: 2, Total Price: $1600.00\n",
            "Product: Headphones, Price: $50.00, Quantity: 5, Total Price: $250.00\n"
          ]
        }
      ]
    },
    {
      "cell_type": "markdown",
      "source": [
        "16. Create a class Animal with an abstract method sound(). Create two derived classes Cow and Sheep that\n",
        "implement the sound() method."
      ],
      "metadata": {
        "id": "_d88ndUzFFBJ"
      }
    },
    {
      "cell_type": "code",
      "source": [
        "from abc import ABC, abstractmethod\n",
        "\n",
        "# Abstract base class\n",
        "class Animal(ABC):\n",
        "    @abstractmethod\n",
        "    def sound(self):\n",
        "        pass  # Abstract method to be implemented in subclasses\n",
        "\n",
        "# Derived class Cow\n",
        "class Cow(Animal):\n",
        "    def sound(self):\n",
        "        return \"Moo!\"\n",
        "\n",
        "# Derived class Sheep\n",
        "class Sheep(Animal):\n",
        "    def sound(self):\n",
        "        return \"Baa!\"\n",
        "\n",
        "# Creating objects\n",
        "cow = Cow()\n",
        "sheep = Sheep()\n",
        "\n",
        "# Printing sounds\n",
        "print(f\"Cow says: {cow.sound()}\")\n",
        "print(f\"Sheep says: {sheep.sound()}\")\n"
      ],
      "metadata": {
        "colab": {
          "base_uri": "https://localhost:8080/"
        },
        "id": "F-NJ7YlUFIqv",
        "outputId": "ca318ffa-20e8-4a79-db4a-40cac74bf83d"
      },
      "execution_count": 17,
      "outputs": [
        {
          "output_type": "stream",
          "name": "stdout",
          "text": [
            "Cow says: Moo!\n",
            "Sheep says: Baa!\n"
          ]
        }
      ]
    },
    {
      "cell_type": "markdown",
      "source": [
        "17. Create a class Book with attributes title, author, and year_published. Add a method get_book_info() that\n",
        "returns a formatted string with the book's details.\n"
      ],
      "metadata": {
        "id": "OFzHDSIaFQ3J"
      }
    },
    {
      "cell_type": "code",
      "source": [
        "class Book:\n",
        "    def __init__(self, title, author, year_published):\n",
        "        self.title = title\n",
        "        self.author = author\n",
        "        self.year_published = year_published\n",
        "\n",
        "    def get_book_info(self):\n",
        "        return f\"'{self.title}' by {self.author}, published in {self.year_published}.\"\n",
        "\n",
        "    def __str__(self):\n",
        "        return self.get_book_info()\n",
        "\n",
        "# Creating Book objects\n",
        "book1 = Book(\"To Kill a Mockingbird\", \"Harper Lee\", 1960)\n",
        "book2 = Book(\"1984\", \"George Orwell\", 1949)\n",
        "\n",
        "# Printing book details\n",
        "print(book1)\n",
        "print(book2)\n"
      ],
      "metadata": {
        "colab": {
          "base_uri": "https://localhost:8080/"
        },
        "id": "4QTD74EQFUIA",
        "outputId": "71a037c2-b59b-466d-dbb4-f5e969d8ce99"
      },
      "execution_count": 18,
      "outputs": [
        {
          "output_type": "stream",
          "name": "stdout",
          "text": [
            "'To Kill a Mockingbird' by Harper Lee, published in 1960.\n",
            "'1984' by George Orwell, published in 1949.\n"
          ]
        }
      ]
    },
    {
      "cell_type": "markdown",
      "source": [
        "18. Create a class House with attributes address and price. Create a derived class Mansion that adds an\n",
        "attribute number_of_rooms."
      ],
      "metadata": {
        "id": "Q6T33KB9FwKq"
      }
    },
    {
      "cell_type": "code",
      "source": [
        "class House:\n",
        "    def __init__(self, address, price):\n",
        "        self.address = address\n",
        "        self.price = price\n",
        "\n",
        "    def __str__(self):\n",
        "        return f\"House at {self.address}, Price: ${self.price:,.2f}\"\n",
        "\n",
        "# Derived class Mansion\n",
        "class Mansion(House):\n",
        "    def __init__(self, address, price, number_of_rooms):\n",
        "        super().__init__(address, price)\n",
        "        self.number_of_rooms = number_of_rooms\n",
        "\n",
        "    def __str__(self):\n",
        "        return f\"Mansion at {self.address}, Price: ${self.price:,.2f}, Rooms: {self.number_of_rooms}\"\n",
        "\n",
        "# Creating objects\n",
        "house = House(\"123 Main St\", 250000)\n",
        "mansion = Mansion(\"456 Luxury Ave\", 5000000, 12)\n",
        "\n",
        "# Printing details\n",
        "print(house)\n",
        "print(mansion)\n"
      ],
      "metadata": {
        "colab": {
          "base_uri": "https://localhost:8080/"
        },
        "id": "va4k6x4pFz3V",
        "outputId": "52887146-d858-4ea7-c8e0-9e02d3bcd2c9"
      },
      "execution_count": 19,
      "outputs": [
        {
          "output_type": "stream",
          "name": "stdout",
          "text": [
            "House at 123 Main St, Price: $250,000.00\n",
            "Mansion at 456 Luxury Ave, Price: $5,000,000.00, Rooms: 12\n"
          ]
        }
      ]
    }
  ]
}